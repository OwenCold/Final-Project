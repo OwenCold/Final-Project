{
 "cells": [
  {
   "cell_type": "code",
   "execution_count": 1,
   "id": "5054eb0e-2e6c-4d98-8f2d-414445b58b54",
   "metadata": {},
   "outputs": [],
   "source": [
    "import pandas as pd\n",
    "import numpy as np\n",
    "from matplotlib import pyplot as plt\n",
    "import json\n",
    "import plotly.express as px"
   ]
  },
  {
   "cell_type": "code",
   "execution_count": 2,
   "id": "2de05081-23ef-4a41-92fc-83543eb976f9",
   "metadata": {},
   "outputs": [],
   "source": [
    "with open(\"ads_viewed0.json\") as j:\n",
    "    ads0 = json.load(j)"
   ]
  },
  {
   "cell_type": "code",
   "execution_count": 3,
   "id": "42cb4bef-fa46-4ee1-9e47-c1305387ee22",
   "metadata": {},
   "outputs": [],
   "source": [
    "with open(\"ads_viewed1.json\") as j:\n",
    "    ads1 = json.load(j)"
   ]
  },
  {
   "cell_type": "code",
   "execution_count": 4,
   "id": "c8850c25-d11d-471a-9f93-8cae1fae3237",
   "metadata": {},
   "outputs": [],
   "source": [
    "with open(\"ads_viewed2.json\") as j:\n",
    "    ads2 = json.load(j)"
   ]
  },
  {
   "cell_type": "code",
   "execution_count": 5,
   "id": "f3015feb-780d-4d2b-9292-5a3b44488739",
   "metadata": {},
   "outputs": [],
   "source": [
    "with open(\"ads_viewed3.json\") as j:\n",
    "    ads3 = json.load(j)"
   ]
  },
  {
   "cell_type": "code",
   "execution_count": 6,
   "id": "b587b2d2-6630-4914-94fd-3370d850f1bf",
   "metadata": {},
   "outputs": [],
   "source": [
    "with open(\"ads_viewed4.json\") as j:\n",
    "    ads4 = json.load(j)"
   ]
  },
  {
   "cell_type": "code",
   "execution_count": 7,
   "id": "ffb6772b-df9f-484e-873a-3913372fcc81",
   "metadata": {},
   "outputs": [],
   "source": [
    "with open(\"ads_viewed5.json\") as j:\n",
    "    ads5 = json.load(j)"
   ]
  },
  {
   "cell_type": "code",
   "execution_count": 8,
   "id": "1c94b4c1-dd4f-489a-a242-da9aa6912487",
   "metadata": {},
   "outputs": [],
   "source": [
    "with open(\"ads_viewed6.json\") as j:\n",
    "    ads6 = json.load(j)"
   ]
  },
  {
   "cell_type": "code",
   "execution_count": 9,
   "id": "272ece95-e529-4116-9276-365d411cae16",
   "metadata": {},
   "outputs": [],
   "source": [
    "with open(\"ads_viewed7.json\") as j:\n",
    "    ads7 = json.load(j)"
   ]
  },
  {
   "cell_type": "code",
   "execution_count": 10,
   "id": "8224251a-a2a4-429e-8a00-8ae0fd6d0a67",
   "metadata": {},
   "outputs": [],
   "source": [
    "with open(\"ads_viewed8.json\") as j:\n",
    "    ads8 = json.load(j)"
   ]
  },
  {
   "cell_type": "code",
   "execution_count": 11,
   "id": "a0f30813-bb3a-407f-87ed-aaaa4c758437",
   "metadata": {},
   "outputs": [],
   "source": [
    "with open(\"ads_viewed9.json\") as j:\n",
    "    ads9 = json.load(j)"
   ]
  },
  {
   "cell_type": "code",
   "execution_count": 12,
   "id": "61bd1e5f-9051-432c-9f9d-1fc69be7d3d5",
   "metadata": {},
   "outputs": [],
   "source": [
    "with open(\"ads_viewed10.json\") as j:\n",
    "    ads10 = json.load(j)"
   ]
  },
  {
   "cell_type": "code",
   "execution_count": 13,
   "id": "aadfc24c-ebe0-4039-99a8-bda97c7f78e5",
   "metadata": {},
   "outputs": [],
   "source": [
    "#\n",
    "# Open more jsons here\n",
    "#"
   ]
  },
  {
   "cell_type": "code",
   "execution_count": 14,
   "id": "7b956058-fbac-4337-87c2-ba4189b9f76c",
   "metadata": {},
   "outputs": [],
   "source": [
    "df_ads0 = pd.DataFrame(ads0)\n",
    "temp_list = []\n",
    "for x in df_ads0['impressions_history_ads_seen']:\n",
    "  try:\n",
    "    value = x['string_map_data']['Author']['value']\n",
    "    temp_list.append(value)\n",
    "  except (KeyError, TypeError):\n",
    "    pass"
   ]
  },
  {
   "cell_type": "code",
   "execution_count": 15,
   "id": "f631434a-3a4f-4c36-9dc6-639bc942e9f3",
   "metadata": {},
   "outputs": [
    {
     "data": {
      "text/html": [
       "<div>\n",
       "<style scoped>\n",
       "    .dataframe tbody tr th:only-of-type {\n",
       "        vertical-align: middle;\n",
       "    }\n",
       "\n",
       "    .dataframe tbody tr th {\n",
       "        vertical-align: top;\n",
       "    }\n",
       "\n",
       "    .dataframe thead th {\n",
       "        text-align: right;\n",
       "    }\n",
       "</style>\n",
       "<table border=\"1\" class=\"dataframe\">\n",
       "  <thead>\n",
       "    <tr style=\"text-align: right;\">\n",
       "      <th></th>\n",
       "      <th>advertiser</th>\n",
       "      <th>Gender</th>\n",
       "      <th>Sexuality</th>\n",
       "      <th>Queer</th>\n",
       "      <th>User</th>\n",
       "    </tr>\n",
       "  </thead>\n",
       "  <tbody>\n",
       "    <tr>\n",
       "      <th>316</th>\n",
       "      <td>huntingtonbank</td>\n",
       "      <td>Cis Male</td>\n",
       "      <td>Gay</td>\n",
       "      <td>1</td>\n",
       "      <td>0</td>\n",
       "    </tr>\n",
       "    <tr>\n",
       "      <th>317</th>\n",
       "      <td>sofi</td>\n",
       "      <td>Cis Male</td>\n",
       "      <td>Gay</td>\n",
       "      <td>1</td>\n",
       "      <td>0</td>\n",
       "    </tr>\n",
       "    <tr>\n",
       "      <th>318</th>\n",
       "      <td>behrpro</td>\n",
       "      <td>Cis Male</td>\n",
       "      <td>Gay</td>\n",
       "      <td>1</td>\n",
       "      <td>0</td>\n",
       "    </tr>\n",
       "    <tr>\n",
       "      <th>319</th>\n",
       "      <td>playhousesquare</td>\n",
       "      <td>Cis Male</td>\n",
       "      <td>Gay</td>\n",
       "      <td>1</td>\n",
       "      <td>0</td>\n",
       "    </tr>\n",
       "    <tr>\n",
       "      <th>320</th>\n",
       "      <td>progressive</td>\n",
       "      <td>Cis Male</td>\n",
       "      <td>Gay</td>\n",
       "      <td>1</td>\n",
       "      <td>0</td>\n",
       "    </tr>\n",
       "  </tbody>\n",
       "</table>\n",
       "</div>"
      ],
      "text/plain": [
       "          advertiser    Gender Sexuality  Queer  User\n",
       "316   huntingtonbank  Cis Male       Gay      1     0\n",
       "317             sofi  Cis Male       Gay      1     0\n",
       "318          behrpro  Cis Male       Gay      1     0\n",
       "319  playhousesquare  Cis Male       Gay      1     0\n",
       "320      progressive  Cis Male       Gay      1     0"
      ]
     },
     "execution_count": 15,
     "metadata": {},
     "output_type": "execute_result"
    }
   ],
   "source": [
    "df_0 = pd.DataFrame({\"advertiser\": temp_list})\n",
    "gender_list = ['Cis Male' for x in df_0['advertiser']]\n",
    "sexu_list = ['Gay' for x in df_0['advertiser']]\n",
    "queer_list = [1 for x in df_0['advertiser']]\n",
    "user_list = [0 for x in df_0['advertiser']]\n",
    "df_0['Gender'] = gender_list\n",
    "df_0['Sexuality'] = sexu_list\n",
    "df_0['Queer'] = queer_list\n",
    "df_0['User'] = user_list\n",
    "df_0.tail()"
   ]
  },
  {
   "cell_type": "code",
   "execution_count": 16,
   "id": "4dd907c2-d53f-46f6-b5aa-a009fb23b98c",
   "metadata": {},
   "outputs": [],
   "source": [
    "df_ads1 = pd.DataFrame(ads1)\n",
    "temp_list = []\n",
    "for x in df_ads1['impressions_history_ads_seen']:\n",
    "  try:\n",
    "    value = x['string_map_data']['Author']['value']\n",
    "    temp_list.append(value)\n",
    "  except (KeyError, TypeError):\n",
    "    pass"
   ]
  },
  {
   "cell_type": "code",
   "execution_count": 17,
   "id": "a03a6f47-7f8b-450a-b8e5-86e9634808ba",
   "metadata": {},
   "outputs": [
    {
     "data": {
      "text/html": [
       "<div>\n",
       "<style scoped>\n",
       "    .dataframe tbody tr th:only-of-type {\n",
       "        vertical-align: middle;\n",
       "    }\n",
       "\n",
       "    .dataframe tbody tr th {\n",
       "        vertical-align: top;\n",
       "    }\n",
       "\n",
       "    .dataframe thead th {\n",
       "        text-align: right;\n",
       "    }\n",
       "</style>\n",
       "<table border=\"1\" class=\"dataframe\">\n",
       "  <thead>\n",
       "    <tr style=\"text-align: right;\">\n",
       "      <th></th>\n",
       "      <th>advertiser</th>\n",
       "      <th>Gender</th>\n",
       "      <th>Sexuality</th>\n",
       "      <th>Queer</th>\n",
       "      <th>User</th>\n",
       "    </tr>\n",
       "  </thead>\n",
       "  <tbody>\n",
       "    <tr>\n",
       "      <th>57</th>\n",
       "      <td>kittenfy_co</td>\n",
       "      <td>Cis Male</td>\n",
       "      <td>Bisexual</td>\n",
       "      <td>1</td>\n",
       "      <td>1</td>\n",
       "    </tr>\n",
       "    <tr>\n",
       "      <th>58</th>\n",
       "      <td>codewallets</td>\n",
       "      <td>Cis Male</td>\n",
       "      <td>Bisexual</td>\n",
       "      <td>1</td>\n",
       "      <td>1</td>\n",
       "    </tr>\n",
       "    <tr>\n",
       "      <th>59</th>\n",
       "      <td>thefallguymovie</td>\n",
       "      <td>Cis Male</td>\n",
       "      <td>Bisexual</td>\n",
       "      <td>1</td>\n",
       "      <td>1</td>\n",
       "    </tr>\n",
       "    <tr>\n",
       "      <th>60</th>\n",
       "      <td>fableticsmen</td>\n",
       "      <td>Cis Male</td>\n",
       "      <td>Bisexual</td>\n",
       "      <td>1</td>\n",
       "      <td>1</td>\n",
       "    </tr>\n",
       "    <tr>\n",
       "      <th>61</th>\n",
       "      <td>angela_fashionsis_</td>\n",
       "      <td>Cis Male</td>\n",
       "      <td>Bisexual</td>\n",
       "      <td>1</td>\n",
       "      <td>1</td>\n",
       "    </tr>\n",
       "  </tbody>\n",
       "</table>\n",
       "</div>"
      ],
      "text/plain": [
       "            advertiser    Gender Sexuality  Queer  User\n",
       "57         kittenfy_co  Cis Male  Bisexual      1     1\n",
       "58         codewallets  Cis Male  Bisexual      1     1\n",
       "59     thefallguymovie  Cis Male  Bisexual      1     1\n",
       "60        fableticsmen  Cis Male  Bisexual      1     1\n",
       "61  angela_fashionsis_  Cis Male  Bisexual      1     1"
      ]
     },
     "execution_count": 17,
     "metadata": {},
     "output_type": "execute_result"
    }
   ],
   "source": [
    "df_1 = pd.DataFrame({\"advertiser\": temp_list})\n",
    "gender_list = ['Cis Male' for x in df_1['advertiser']]\n",
    "sexu_list = ['Bisexual' for x in df_1['advertiser']]\n",
    "queer_list = [1 for x in df_1['advertiser']]\n",
    "user_list = [1 for x in df_1['advertiser']]\n",
    "df_1['Gender'] = gender_list\n",
    "df_1['Sexuality'] = sexu_list\n",
    "df_1['Queer'] = queer_list\n",
    "df_1['User'] = user_list\n",
    "df_1.tail()"
   ]
  },
  {
   "cell_type": "code",
   "execution_count": 18,
   "id": "8a4429b3-ab5b-487c-8ec8-3626ed5984ad",
   "metadata": {},
   "outputs": [],
   "source": [
    "df_ads2 = pd.DataFrame(ads2)\n",
    "temp_list = []\n",
    "for x in df_ads2['impressions_history_ads_seen']:\n",
    "  try:\n",
    "    value = x['string_map_data']['Author']['value']\n",
    "    temp_list.append(value)\n",
    "  except (KeyError, TypeError):\n",
    "    pass"
   ]
  },
  {
   "cell_type": "code",
   "execution_count": 19,
   "id": "566004f4-b0e8-49c3-85ab-2d1f2eb9986f",
   "metadata": {},
   "outputs": [
    {
     "data": {
      "text/html": [
       "<div>\n",
       "<style scoped>\n",
       "    .dataframe tbody tr th:only-of-type {\n",
       "        vertical-align: middle;\n",
       "    }\n",
       "\n",
       "    .dataframe tbody tr th {\n",
       "        vertical-align: top;\n",
       "    }\n",
       "\n",
       "    .dataframe thead th {\n",
       "        text-align: right;\n",
       "    }\n",
       "</style>\n",
       "<table border=\"1\" class=\"dataframe\">\n",
       "  <thead>\n",
       "    <tr style=\"text-align: right;\">\n",
       "      <th></th>\n",
       "      <th>advertiser</th>\n",
       "      <th>Gender</th>\n",
       "      <th>Sexuality</th>\n",
       "      <th>Queer</th>\n",
       "      <th>User</th>\n",
       "    </tr>\n",
       "  </thead>\n",
       "  <tbody>\n",
       "    <tr>\n",
       "      <th>91</th>\n",
       "      <td>dreamclothinghq</td>\n",
       "      <td>Cis Male</td>\n",
       "      <td>Bisexual</td>\n",
       "      <td>1</td>\n",
       "      <td>2</td>\n",
       "    </tr>\n",
       "    <tr>\n",
       "      <th>92</th>\n",
       "      <td>killcrew</td>\n",
       "      <td>Cis Male</td>\n",
       "      <td>Bisexual</td>\n",
       "      <td>1</td>\n",
       "      <td>2</td>\n",
       "    </tr>\n",
       "    <tr>\n",
       "      <th>93</th>\n",
       "      <td>caramelsdotcom</td>\n",
       "      <td>Cis Male</td>\n",
       "      <td>Bisexual</td>\n",
       "      <td>1</td>\n",
       "      <td>2</td>\n",
       "    </tr>\n",
       "    <tr>\n",
       "      <th>94</th>\n",
       "      <td>betterhelp</td>\n",
       "      <td>Cis Male</td>\n",
       "      <td>Bisexual</td>\n",
       "      <td>1</td>\n",
       "      <td>2</td>\n",
       "    </tr>\n",
       "    <tr>\n",
       "      <th>95</th>\n",
       "      <td>happinessproject</td>\n",
       "      <td>Cis Male</td>\n",
       "      <td>Bisexual</td>\n",
       "      <td>1</td>\n",
       "      <td>2</td>\n",
       "    </tr>\n",
       "  </tbody>\n",
       "</table>\n",
       "</div>"
      ],
      "text/plain": [
       "          advertiser    Gender Sexuality  Queer  User\n",
       "91   dreamclothinghq  Cis Male  Bisexual      1     2\n",
       "92          killcrew  Cis Male  Bisexual      1     2\n",
       "93    caramelsdotcom  Cis Male  Bisexual      1     2\n",
       "94        betterhelp  Cis Male  Bisexual      1     2\n",
       "95  happinessproject  Cis Male  Bisexual      1     2"
      ]
     },
     "execution_count": 19,
     "metadata": {},
     "output_type": "execute_result"
    }
   ],
   "source": [
    "df_2 = pd.DataFrame({\"advertiser\": temp_list})\n",
    "gender_list = ['Cis Male' for x in df_2['advertiser']]\n",
    "sexu_list = ['Bisexual' for x in df_2['advertiser']]\n",
    "queer_list = [1 for x in df_2['advertiser']]\n",
    "user_list = [2 for x in df_2['advertiser']]\n",
    "df_2['Gender'] = gender_list\n",
    "df_2['Sexuality'] = sexu_list\n",
    "df_2['Queer'] = queer_list\n",
    "df_2['User'] = user_list\n",
    "df_2.tail()"
   ]
  },
  {
   "cell_type": "code",
   "execution_count": 20,
   "id": "3d5f8393-6aac-44f7-801d-79dabf621a6c",
   "metadata": {},
   "outputs": [],
   "source": [
    "df_ads3 = pd.DataFrame(ads3)\n",
    "temp_list = []\n",
    "for x in df_ads3['impressions_history_ads_seen']:\n",
    "  try:\n",
    "    value = x['string_map_data']['Author']['value']\n",
    "    temp_list.append(value)\n",
    "  except (KeyError, TypeError):\n",
    "    pass"
   ]
  },
  {
   "cell_type": "code",
   "execution_count": 21,
   "id": "4785690a-a51e-4dac-9810-027ca6d173c2",
   "metadata": {},
   "outputs": [
    {
     "data": {
      "text/html": [
       "<div>\n",
       "<style scoped>\n",
       "    .dataframe tbody tr th:only-of-type {\n",
       "        vertical-align: middle;\n",
       "    }\n",
       "\n",
       "    .dataframe tbody tr th {\n",
       "        vertical-align: top;\n",
       "    }\n",
       "\n",
       "    .dataframe thead th {\n",
       "        text-align: right;\n",
       "    }\n",
       "</style>\n",
       "<table border=\"1\" class=\"dataframe\">\n",
       "  <thead>\n",
       "    <tr style=\"text-align: right;\">\n",
       "      <th></th>\n",
       "      <th>advertiser</th>\n",
       "      <th>Gender</th>\n",
       "      <th>Sexuality</th>\n",
       "      <th>Queer</th>\n",
       "      <th>User</th>\n",
       "    </tr>\n",
       "  </thead>\n",
       "  <tbody>\n",
       "    <tr>\n",
       "      <th>33</th>\n",
       "      <td>bottomsupmovement</td>\n",
       "      <td>Cis Male</td>\n",
       "      <td>Gay</td>\n",
       "      <td>1</td>\n",
       "      <td>3</td>\n",
       "    </tr>\n",
       "    <tr>\n",
       "      <th>34</th>\n",
       "      <td>joydiia.rave</td>\n",
       "      <td>Cis Male</td>\n",
       "      <td>Gay</td>\n",
       "      <td>1</td>\n",
       "      <td>3</td>\n",
       "    </tr>\n",
       "    <tr>\n",
       "      <th>35</th>\n",
       "      <td>343labs</td>\n",
       "      <td>Cis Male</td>\n",
       "      <td>Gay</td>\n",
       "      <td>1</td>\n",
       "      <td>3</td>\n",
       "    </tr>\n",
       "    <tr>\n",
       "      <th>36</th>\n",
       "      <td>stylishvibes_stella</td>\n",
       "      <td>Cis Male</td>\n",
       "      <td>Gay</td>\n",
       "      <td>1</td>\n",
       "      <td>3</td>\n",
       "    </tr>\n",
       "    <tr>\n",
       "      <th>37</th>\n",
       "      <td>animatecolumbus</td>\n",
       "      <td>Cis Male</td>\n",
       "      <td>Gay</td>\n",
       "      <td>1</td>\n",
       "      <td>3</td>\n",
       "    </tr>\n",
       "  </tbody>\n",
       "</table>\n",
       "</div>"
      ],
      "text/plain": [
       "             advertiser    Gender Sexuality  Queer  User\n",
       "33    bottomsupmovement  Cis Male       Gay      1     3\n",
       "34         joydiia.rave  Cis Male       Gay      1     3\n",
       "35              343labs  Cis Male       Gay      1     3\n",
       "36  stylishvibes_stella  Cis Male       Gay      1     3\n",
       "37      animatecolumbus  Cis Male       Gay      1     3"
      ]
     },
     "execution_count": 21,
     "metadata": {},
     "output_type": "execute_result"
    }
   ],
   "source": [
    "df_3 = pd.DataFrame({\"advertiser\": temp_list})\n",
    "gender_list = ['Cis Male' for x in df_3['advertiser']]\n",
    "sexu_list = ['Gay' for x in df_3['advertiser']]\n",
    "queer_list = [1 for x in df_3['advertiser']]\n",
    "user_list = [3 for x in df_3['advertiser']]\n",
    "df_3['Gender'] = gender_list\n",
    "df_3['Sexuality'] = sexu_list\n",
    "df_3['Queer'] = queer_list\n",
    "df_3['User'] = user_list\n",
    "df_3.tail()"
   ]
  },
  {
   "cell_type": "code",
   "execution_count": 22,
   "id": "2501f619-6d01-4461-88a8-f13d8a787717",
   "metadata": {},
   "outputs": [],
   "source": [
    "df_ads4 = pd.DataFrame(ads4)\n",
    "temp_list = []\n",
    "for x in df_ads4['impressions_history_ads_seen']:\n",
    "  try:\n",
    "    value = x['string_map_data']['Author']['value']\n",
    "    temp_list.append(value)\n",
    "  except (KeyError, TypeError):\n",
    "    pass"
   ]
  },
  {
   "cell_type": "code",
   "execution_count": 23,
   "id": "29a7110f-2536-4501-9706-6296f23ff731",
   "metadata": {},
   "outputs": [
    {
     "data": {
      "text/html": [
       "<div>\n",
       "<style scoped>\n",
       "    .dataframe tbody tr th:only-of-type {\n",
       "        vertical-align: middle;\n",
       "    }\n",
       "\n",
       "    .dataframe tbody tr th {\n",
       "        vertical-align: top;\n",
       "    }\n",
       "\n",
       "    .dataframe thead th {\n",
       "        text-align: right;\n",
       "    }\n",
       "</style>\n",
       "<table border=\"1\" class=\"dataframe\">\n",
       "  <thead>\n",
       "    <tr style=\"text-align: right;\">\n",
       "      <th></th>\n",
       "      <th>advertiser</th>\n",
       "      <th>Gender</th>\n",
       "      <th>Sexuality</th>\n",
       "      <th>Queer</th>\n",
       "      <th>User</th>\n",
       "    </tr>\n",
       "  </thead>\n",
       "  <tbody>\n",
       "    <tr>\n",
       "      <th>61</th>\n",
       "      <td>aswemove</td>\n",
       "      <td>Cis Male</td>\n",
       "      <td>Straight</td>\n",
       "      <td>0</td>\n",
       "      <td>4</td>\n",
       "    </tr>\n",
       "    <tr>\n",
       "      <th>62</th>\n",
       "      <td>trynood</td>\n",
       "      <td>Cis Male</td>\n",
       "      <td>Straight</td>\n",
       "      <td>0</td>\n",
       "      <td>4</td>\n",
       "    </tr>\n",
       "    <tr>\n",
       "      <th>63</th>\n",
       "      <td>pearljam</td>\n",
       "      <td>Cis Male</td>\n",
       "      <td>Straight</td>\n",
       "      <td>0</td>\n",
       "      <td>4</td>\n",
       "    </tr>\n",
       "    <tr>\n",
       "      <th>64</th>\n",
       "      <td>dexcom</td>\n",
       "      <td>Cis Male</td>\n",
       "      <td>Straight</td>\n",
       "      <td>0</td>\n",
       "      <td>4</td>\n",
       "    </tr>\n",
       "    <tr>\n",
       "      <th>65</th>\n",
       "      <td>snapfitnesskent1</td>\n",
       "      <td>Cis Male</td>\n",
       "      <td>Straight</td>\n",
       "      <td>0</td>\n",
       "      <td>4</td>\n",
       "    </tr>\n",
       "  </tbody>\n",
       "</table>\n",
       "</div>"
      ],
      "text/plain": [
       "          advertiser    Gender Sexuality  Queer  User\n",
       "61          aswemove  Cis Male  Straight      0     4\n",
       "62           trynood  Cis Male  Straight      0     4\n",
       "63          pearljam  Cis Male  Straight      0     4\n",
       "64            dexcom  Cis Male  Straight      0     4\n",
       "65  snapfitnesskent1  Cis Male  Straight      0     4"
      ]
     },
     "execution_count": 23,
     "metadata": {},
     "output_type": "execute_result"
    }
   ],
   "source": [
    "df_4 = pd.DataFrame({\"advertiser\": temp_list})\n",
    "gender_list = ['Cis Male' for x in df_4['advertiser']]\n",
    "sexu_list = ['Straight' for x in df_4['advertiser']]\n",
    "queer_list = [0 for x in df_4['advertiser']]\n",
    "user_list = [4 for x in df_4['advertiser']]\n",
    "df_4['Gender'] = gender_list\n",
    "df_4['Sexuality'] = sexu_list\n",
    "df_4['Queer'] = queer_list\n",
    "df_4['User'] = user_list\n",
    "df_4.tail()"
   ]
  },
  {
   "cell_type": "code",
   "execution_count": 24,
   "id": "89b3c19f-9456-4863-9b6a-25ee8b02ec85",
   "metadata": {},
   "outputs": [],
   "source": [
    "df_ads5 = pd.DataFrame(ads5)\n",
    "temp_list = []\n",
    "for x in df_ads5['impressions_history_ads_seen']:\n",
    "  try:\n",
    "    value = x['string_map_data']['Author']['value']\n",
    "    temp_list.append(value)\n",
    "  except (KeyError, TypeError):\n",
    "    pass"
   ]
  },
  {
   "cell_type": "code",
   "execution_count": 25,
   "id": "64d23d58-66db-4877-ab39-1915d4eb926a",
   "metadata": {},
   "outputs": [
    {
     "data": {
      "text/html": [
       "<div>\n",
       "<style scoped>\n",
       "    .dataframe tbody tr th:only-of-type {\n",
       "        vertical-align: middle;\n",
       "    }\n",
       "\n",
       "    .dataframe tbody tr th {\n",
       "        vertical-align: top;\n",
       "    }\n",
       "\n",
       "    .dataframe thead th {\n",
       "        text-align: right;\n",
       "    }\n",
       "</style>\n",
       "<table border=\"1\" class=\"dataframe\">\n",
       "  <thead>\n",
       "    <tr style=\"text-align: right;\">\n",
       "      <th></th>\n",
       "      <th>advertiser</th>\n",
       "      <th>Gender</th>\n",
       "      <th>Sexuality</th>\n",
       "      <th>Queer</th>\n",
       "      <th>User</th>\n",
       "    </tr>\n",
       "  </thead>\n",
       "  <tbody>\n",
       "    <tr>\n",
       "      <th>82</th>\n",
       "      <td>lightslacquer</td>\n",
       "      <td>Cis Female</td>\n",
       "      <td>Straight</td>\n",
       "      <td>0</td>\n",
       "      <td>5</td>\n",
       "    </tr>\n",
       "    <tr>\n",
       "      <th>83</th>\n",
       "      <td>gourmandbeauty</td>\n",
       "      <td>Cis Female</td>\n",
       "      <td>Straight</td>\n",
       "      <td>0</td>\n",
       "      <td>5</td>\n",
       "    </tr>\n",
       "    <tr>\n",
       "      <th>84</th>\n",
       "      <td>gourmandbeauty</td>\n",
       "      <td>Cis Female</td>\n",
       "      <td>Straight</td>\n",
       "      <td>0</td>\n",
       "      <td>5</td>\n",
       "    </tr>\n",
       "    <tr>\n",
       "      <th>85</th>\n",
       "      <td>shipyardgamesofficial</td>\n",
       "      <td>Cis Female</td>\n",
       "      <td>Straight</td>\n",
       "      <td>0</td>\n",
       "      <td>5</td>\n",
       "    </tr>\n",
       "    <tr>\n",
       "      <th>86</th>\n",
       "      <td>nonosesinc</td>\n",
       "      <td>Cis Female</td>\n",
       "      <td>Straight</td>\n",
       "      <td>0</td>\n",
       "      <td>5</td>\n",
       "    </tr>\n",
       "  </tbody>\n",
       "</table>\n",
       "</div>"
      ],
      "text/plain": [
       "               advertiser      Gender Sexuality  Queer  User\n",
       "82          lightslacquer  Cis Female  Straight      0     5\n",
       "83         gourmandbeauty  Cis Female  Straight      0     5\n",
       "84         gourmandbeauty  Cis Female  Straight      0     5\n",
       "85  shipyardgamesofficial  Cis Female  Straight      0     5\n",
       "86             nonosesinc  Cis Female  Straight      0     5"
      ]
     },
     "execution_count": 25,
     "metadata": {},
     "output_type": "execute_result"
    }
   ],
   "source": [
    "df_5 = pd.DataFrame({\"advertiser\": temp_list})\n",
    "gender_list = ['Cis Female' for x in df_5['advertiser']]\n",
    "sexu_list = ['Straight' for x in df_5['advertiser']]\n",
    "queer_list = [0 for x in df_5['advertiser']]\n",
    "user_list = [5 for x in df_5['advertiser']]\n",
    "df_5['Gender'] = gender_list\n",
    "df_5['Sexuality'] = sexu_list\n",
    "df_5['Queer'] = queer_list\n",
    "df_5['User'] = user_list\n",
    "df_5.tail()"
   ]
  },
  {
   "cell_type": "code",
   "execution_count": 26,
   "id": "35d220d8-1e58-47c7-9e53-2c614ab97879",
   "metadata": {},
   "outputs": [],
   "source": [
    "df_ads6 = pd.DataFrame(ads6)\n",
    "temp_list = []\n",
    "for x in df_ads6['impressions_history_ads_seen']:\n",
    "  try:\n",
    "    value = x['string_map_data']['Author']['value']\n",
    "    temp_list.append(value)\n",
    "  except (KeyError, TypeError):\n",
    "    pass"
   ]
  },
  {
   "cell_type": "code",
   "execution_count": 27,
   "id": "8c1f0d30-ad4a-464b-84a8-5cf530dfe83a",
   "metadata": {},
   "outputs": [
    {
     "data": {
      "text/html": [
       "<div>\n",
       "<style scoped>\n",
       "    .dataframe tbody tr th:only-of-type {\n",
       "        vertical-align: middle;\n",
       "    }\n",
       "\n",
       "    .dataframe tbody tr th {\n",
       "        vertical-align: top;\n",
       "    }\n",
       "\n",
       "    .dataframe thead th {\n",
       "        text-align: right;\n",
       "    }\n",
       "</style>\n",
       "<table border=\"1\" class=\"dataframe\">\n",
       "  <thead>\n",
       "    <tr style=\"text-align: right;\">\n",
       "      <th></th>\n",
       "      <th>advertiser</th>\n",
       "      <th>Gender</th>\n",
       "      <th>Sexuality</th>\n",
       "      <th>Queer</th>\n",
       "      <th>User</th>\n",
       "    </tr>\n",
       "  </thead>\n",
       "  <tbody>\n",
       "    <tr>\n",
       "      <th>224</th>\n",
       "      <td>dashamusic</td>\n",
       "      <td>Cis Female</td>\n",
       "      <td>Straight</td>\n",
       "      <td>0</td>\n",
       "      <td>6</td>\n",
       "    </tr>\n",
       "    <tr>\n",
       "      <th>225</th>\n",
       "      <td>stellaartoisca</td>\n",
       "      <td>Cis Female</td>\n",
       "      <td>Straight</td>\n",
       "      <td>0</td>\n",
       "      <td>6</td>\n",
       "    </tr>\n",
       "    <tr>\n",
       "      <th>226</th>\n",
       "      <td>gucci</td>\n",
       "      <td>Cis Female</td>\n",
       "      <td>Straight</td>\n",
       "      <td>0</td>\n",
       "      <td>6</td>\n",
       "    </tr>\n",
       "    <tr>\n",
       "      <th>227</th>\n",
       "      <td>skipthedishes</td>\n",
       "      <td>Cis Female</td>\n",
       "      <td>Straight</td>\n",
       "      <td>0</td>\n",
       "      <td>6</td>\n",
       "    </tr>\n",
       "    <tr>\n",
       "      <th>228</th>\n",
       "      <td>universalpicturescanada</td>\n",
       "      <td>Cis Female</td>\n",
       "      <td>Straight</td>\n",
       "      <td>0</td>\n",
       "      <td>6</td>\n",
       "    </tr>\n",
       "  </tbody>\n",
       "</table>\n",
       "</div>"
      ],
      "text/plain": [
       "                  advertiser      Gender Sexuality  Queer  User\n",
       "224               dashamusic  Cis Female  Straight      0     6\n",
       "225           stellaartoisca  Cis Female  Straight      0     6\n",
       "226                    gucci  Cis Female  Straight      0     6\n",
       "227            skipthedishes  Cis Female  Straight      0     6\n",
       "228  universalpicturescanada  Cis Female  Straight      0     6"
      ]
     },
     "execution_count": 27,
     "metadata": {},
     "output_type": "execute_result"
    }
   ],
   "source": [
    "df_6 = pd.DataFrame({\"advertiser\": temp_list})\n",
    "gender_list = ['Cis Female' for x in df_6['advertiser']]\n",
    "sexu_list = ['Straight' for x in df_6['advertiser']]\n",
    "queer_list = [0 for x in df_6['advertiser']]\n",
    "user_list = [6 for x in df_6['advertiser']]\n",
    "df_6['Gender'] = gender_list\n",
    "df_6['Sexuality'] = sexu_list\n",
    "df_6['Queer'] = queer_list\n",
    "df_6['User'] = user_list\n",
    "df_6.tail()"
   ]
  },
  {
   "cell_type": "code",
   "execution_count": 28,
   "id": "c1211ccb-f3d1-43db-8a7b-d9c496d8f5df",
   "metadata": {},
   "outputs": [],
   "source": [
    "df_ads7 = pd.DataFrame(ads7)\n",
    "temp_list = []\n",
    "for x in df_ads7['impressions_history_ads_seen']:\n",
    "  try:\n",
    "    value = x['string_map_data']['Author']['value']\n",
    "    temp_list.append(value)\n",
    "  except (KeyError, TypeError):\n",
    "    pass"
   ]
  },
  {
   "cell_type": "code",
   "execution_count": 29,
   "id": "328f4e75-8149-488f-adae-91c63448e510",
   "metadata": {},
   "outputs": [
    {
     "data": {
      "text/html": [
       "<div>\n",
       "<style scoped>\n",
       "    .dataframe tbody tr th:only-of-type {\n",
       "        vertical-align: middle;\n",
       "    }\n",
       "\n",
       "    .dataframe tbody tr th {\n",
       "        vertical-align: top;\n",
       "    }\n",
       "\n",
       "    .dataframe thead th {\n",
       "        text-align: right;\n",
       "    }\n",
       "</style>\n",
       "<table border=\"1\" class=\"dataframe\">\n",
       "  <thead>\n",
       "    <tr style=\"text-align: right;\">\n",
       "      <th></th>\n",
       "      <th>advertiser</th>\n",
       "      <th>Gender</th>\n",
       "      <th>Sexuality</th>\n",
       "      <th>Queer</th>\n",
       "      <th>User</th>\n",
       "    </tr>\n",
       "  </thead>\n",
       "  <tbody>\n",
       "    <tr>\n",
       "      <th>63</th>\n",
       "      <td>att</td>\n",
       "      <td>Cis Female</td>\n",
       "      <td>Straight</td>\n",
       "      <td>0</td>\n",
       "      <td>7</td>\n",
       "    </tr>\n",
       "    <tr>\n",
       "      <th>64</th>\n",
       "      <td>killcrew</td>\n",
       "      <td>Cis Female</td>\n",
       "      <td>Straight</td>\n",
       "      <td>0</td>\n",
       "      <td>7</td>\n",
       "    </tr>\n",
       "    <tr>\n",
       "      <th>65</th>\n",
       "      <td>homesdotcom</td>\n",
       "      <td>Cis Female</td>\n",
       "      <td>Straight</td>\n",
       "      <td>0</td>\n",
       "      <td>7</td>\n",
       "    </tr>\n",
       "    <tr>\n",
       "      <th>66</th>\n",
       "      <td>chewy</td>\n",
       "      <td>Cis Female</td>\n",
       "      <td>Straight</td>\n",
       "      <td>0</td>\n",
       "      <td>7</td>\n",
       "    </tr>\n",
       "    <tr>\n",
       "      <th>67</th>\n",
       "      <td>dollargeneral</td>\n",
       "      <td>Cis Female</td>\n",
       "      <td>Straight</td>\n",
       "      <td>0</td>\n",
       "      <td>7</td>\n",
       "    </tr>\n",
       "  </tbody>\n",
       "</table>\n",
       "</div>"
      ],
      "text/plain": [
       "       advertiser      Gender Sexuality  Queer  User\n",
       "63            att  Cis Female  Straight      0     7\n",
       "64       killcrew  Cis Female  Straight      0     7\n",
       "65    homesdotcom  Cis Female  Straight      0     7\n",
       "66          chewy  Cis Female  Straight      0     7\n",
       "67  dollargeneral  Cis Female  Straight      0     7"
      ]
     },
     "execution_count": 29,
     "metadata": {},
     "output_type": "execute_result"
    }
   ],
   "source": [
    "df_7 = pd.DataFrame({\"advertiser\": temp_list})\n",
    "gender_list = ['Cis Female' for x in df_7['advertiser']]\n",
    "sexu_list = ['Straight' for x in df_7['advertiser']]\n",
    "queer_list = [0 for x in df_7['advertiser']]\n",
    "user_list = [7 for x in df_7['advertiser']]\n",
    "df_7['Gender'] = gender_list\n",
    "df_7['Sexuality'] = sexu_list\n",
    "df_7['Queer'] = queer_list\n",
    "df_7['User'] = user_list\n",
    "df_7.tail()"
   ]
  },
  {
   "cell_type": "code",
   "execution_count": 30,
   "id": "7499ce57-982e-410f-a429-1a6e4cdbd3dc",
   "metadata": {},
   "outputs": [],
   "source": [
    "df_ads8 = pd.DataFrame(ads8)\n",
    "temp_list = []\n",
    "for x in df_ads8['impressions_history_ads_seen']:\n",
    "  try:\n",
    "    value = x['string_map_data']['Author']['value']\n",
    "    temp_list.append(value)\n",
    "  except (KeyError, TypeError):\n",
    "    pass"
   ]
  },
  {
   "cell_type": "code",
   "execution_count": 31,
   "id": "829fa03f-4ef3-474f-b13c-240943a106ac",
   "metadata": {},
   "outputs": [
    {
     "data": {
      "text/html": [
       "<div>\n",
       "<style scoped>\n",
       "    .dataframe tbody tr th:only-of-type {\n",
       "        vertical-align: middle;\n",
       "    }\n",
       "\n",
       "    .dataframe tbody tr th {\n",
       "        vertical-align: top;\n",
       "    }\n",
       "\n",
       "    .dataframe thead th {\n",
       "        text-align: right;\n",
       "    }\n",
       "</style>\n",
       "<table border=\"1\" class=\"dataframe\">\n",
       "  <thead>\n",
       "    <tr style=\"text-align: right;\">\n",
       "      <th></th>\n",
       "      <th>advertiser</th>\n",
       "      <th>Gender</th>\n",
       "      <th>Sexuality</th>\n",
       "      <th>Queer</th>\n",
       "      <th>User</th>\n",
       "    </tr>\n",
       "  </thead>\n",
       "  <tbody>\n",
       "    <tr>\n",
       "      <th>64</th>\n",
       "      <td>tarotmovie</td>\n",
       "      <td>Cis Female</td>\n",
       "      <td>Straight</td>\n",
       "      <td>0</td>\n",
       "      <td>8</td>\n",
       "    </tr>\n",
       "    <tr>\n",
       "      <th>65</th>\n",
       "      <td>lorealparis</td>\n",
       "      <td>Cis Female</td>\n",
       "      <td>Straight</td>\n",
       "      <td>0</td>\n",
       "      <td>8</td>\n",
       "    </tr>\n",
       "    <tr>\n",
       "      <th>66</th>\n",
       "      <td>adidas</td>\n",
       "      <td>Cis Female</td>\n",
       "      <td>Straight</td>\n",
       "      <td>0</td>\n",
       "      <td>8</td>\n",
       "    </tr>\n",
       "    <tr>\n",
       "      <th>67</th>\n",
       "      <td>filausa</td>\n",
       "      <td>Cis Female</td>\n",
       "      <td>Straight</td>\n",
       "      <td>0</td>\n",
       "      <td>8</td>\n",
       "    </tr>\n",
       "    <tr>\n",
       "      <th>68</th>\n",
       "      <td>bandaicollect</td>\n",
       "      <td>Cis Female</td>\n",
       "      <td>Straight</td>\n",
       "      <td>0</td>\n",
       "      <td>8</td>\n",
       "    </tr>\n",
       "  </tbody>\n",
       "</table>\n",
       "</div>"
      ],
      "text/plain": [
       "       advertiser      Gender Sexuality  Queer  User\n",
       "64     tarotmovie  Cis Female  Straight      0     8\n",
       "65    lorealparis  Cis Female  Straight      0     8\n",
       "66         adidas  Cis Female  Straight      0     8\n",
       "67        filausa  Cis Female  Straight      0     8\n",
       "68  bandaicollect  Cis Female  Straight      0     8"
      ]
     },
     "execution_count": 31,
     "metadata": {},
     "output_type": "execute_result"
    }
   ],
   "source": [
    "df_8 = pd.DataFrame({\"advertiser\": temp_list})\n",
    "gender_list = ['Cis Female' for x in df_8['advertiser']]\n",
    "sexu_list = ['Straight' for x in df_8['advertiser']]\n",
    "queer_list = [0 for x in df_8['advertiser']]\n",
    "user_list = [8 for x in df_8['advertiser']]\n",
    "df_8['Gender'] = gender_list\n",
    "df_8['Sexuality'] = sexu_list\n",
    "df_8['Queer'] = queer_list\n",
    "df_8['User'] = user_list\n",
    "df_8.tail()"
   ]
  },
  {
   "cell_type": "code",
   "execution_count": 32,
   "id": "f4b2b97b-ace7-4d96-b936-9f728c6f778d",
   "metadata": {},
   "outputs": [],
   "source": [
    "df_ads9 = pd.DataFrame(ads9)\n",
    "temp_list = []\n",
    "for x in df_ads9['impressions_history_ads_seen']:\n",
    "  try:\n",
    "    value = x['string_map_data']['Author']['value']\n",
    "    temp_list.append(value)\n",
    "  except (KeyError, TypeError):\n",
    "    pass"
   ]
  },
  {
   "cell_type": "code",
   "execution_count": 33,
   "id": "e143b23a-db49-47b3-aaf3-9de5e7ebc3a6",
   "metadata": {},
   "outputs": [
    {
     "data": {
      "text/html": [
       "<div>\n",
       "<style scoped>\n",
       "    .dataframe tbody tr th:only-of-type {\n",
       "        vertical-align: middle;\n",
       "    }\n",
       "\n",
       "    .dataframe tbody tr th {\n",
       "        vertical-align: top;\n",
       "    }\n",
       "\n",
       "    .dataframe thead th {\n",
       "        text-align: right;\n",
       "    }\n",
       "</style>\n",
       "<table border=\"1\" class=\"dataframe\">\n",
       "  <thead>\n",
       "    <tr style=\"text-align: right;\">\n",
       "      <th></th>\n",
       "      <th>advertiser</th>\n",
       "      <th>Gender</th>\n",
       "      <th>Sexuality</th>\n",
       "      <th>Queer</th>\n",
       "      <th>User</th>\n",
       "    </tr>\n",
       "  </thead>\n",
       "  <tbody>\n",
       "    <tr>\n",
       "      <th>1</th>\n",
       "      <td>thetonyawards</td>\n",
       "      <td>Cis Female</td>\n",
       "      <td>Pansexual</td>\n",
       "      <td>1</td>\n",
       "      <td>9</td>\n",
       "    </tr>\n",
       "    <tr>\n",
       "      <th>2</th>\n",
       "      <td>loopearplugs</td>\n",
       "      <td>Cis Female</td>\n",
       "      <td>Pansexual</td>\n",
       "      <td>1</td>\n",
       "      <td>9</td>\n",
       "    </tr>\n",
       "    <tr>\n",
       "      <th>3</th>\n",
       "      <td>thetonyawards</td>\n",
       "      <td>Cis Female</td>\n",
       "      <td>Pansexual</td>\n",
       "      <td>1</td>\n",
       "      <td>9</td>\n",
       "    </tr>\n",
       "    <tr>\n",
       "      <th>4</th>\n",
       "      <td>thetonyawards</td>\n",
       "      <td>Cis Female</td>\n",
       "      <td>Pansexual</td>\n",
       "      <td>1</td>\n",
       "      <td>9</td>\n",
       "    </tr>\n",
       "    <tr>\n",
       "      <th>5</th>\n",
       "      <td>storyjewellery_</td>\n",
       "      <td>Cis Female</td>\n",
       "      <td>Pansexual</td>\n",
       "      <td>1</td>\n",
       "      <td>9</td>\n",
       "    </tr>\n",
       "  </tbody>\n",
       "</table>\n",
       "</div>"
      ],
      "text/plain": [
       "        advertiser      Gender  Sexuality  Queer  User\n",
       "1    thetonyawards  Cis Female  Pansexual      1     9\n",
       "2     loopearplugs  Cis Female  Pansexual      1     9\n",
       "3    thetonyawards  Cis Female  Pansexual      1     9\n",
       "4    thetonyawards  Cis Female  Pansexual      1     9\n",
       "5  storyjewellery_  Cis Female  Pansexual      1     9"
      ]
     },
     "execution_count": 33,
     "metadata": {},
     "output_type": "execute_result"
    }
   ],
   "source": [
    "df_9 = pd.DataFrame({\"advertiser\": temp_list})\n",
    "gender_list = ['Cis Female' for x in df_9['advertiser']]\n",
    "sexu_list = ['Pansexual' for x in df_9['advertiser']]\n",
    "queer_list = [1 for x in df_9['advertiser']]\n",
    "user_list = [9 for x in df_9['advertiser']]\n",
    "df_9['Gender'] = gender_list\n",
    "df_9['Sexuality'] = sexu_list\n",
    "df_9['Queer'] = queer_list\n",
    "df_9['User'] = user_list\n",
    "df_9.tail()"
   ]
  },
  {
   "cell_type": "code",
   "execution_count": 34,
   "id": "d22ee117-b519-4a7b-bf2f-0841ac5b6d04",
   "metadata": {},
   "outputs": [],
   "source": [
    "df_ads10 = pd.DataFrame(ads10)\n",
    "temp_list = []\n",
    "for x in df_ads10['impressions_history_ads_seen']:\n",
    "  try:\n",
    "    value = x['string_map_data']['Author']['value']\n",
    "    temp_list.append(value)\n",
    "  except (KeyError, TypeError):\n",
    "    pass"
   ]
  },
  {
   "cell_type": "code",
   "execution_count": 35,
   "id": "56bd0a86-95b3-49c3-8cbd-f44ccdb7d1d4",
   "metadata": {},
   "outputs": [
    {
     "data": {
      "text/html": [
       "<div>\n",
       "<style scoped>\n",
       "    .dataframe tbody tr th:only-of-type {\n",
       "        vertical-align: middle;\n",
       "    }\n",
       "\n",
       "    .dataframe tbody tr th {\n",
       "        vertical-align: top;\n",
       "    }\n",
       "\n",
       "    .dataframe thead th {\n",
       "        text-align: right;\n",
       "    }\n",
       "</style>\n",
       "<table border=\"1\" class=\"dataframe\">\n",
       "  <thead>\n",
       "    <tr style=\"text-align: right;\">\n",
       "      <th></th>\n",
       "      <th>advertiser</th>\n",
       "      <th>Gender</th>\n",
       "      <th>Sexuality</th>\n",
       "      <th>Queer</th>\n",
       "      <th>User</th>\n",
       "    </tr>\n",
       "  </thead>\n",
       "  <tbody>\n",
       "    <tr>\n",
       "      <th>36</th>\n",
       "      <td>livenation</td>\n",
       "      <td>Cis Female</td>\n",
       "      <td>Straight</td>\n",
       "      <td>0</td>\n",
       "      <td>10</td>\n",
       "    </tr>\n",
       "    <tr>\n",
       "      <th>37</th>\n",
       "      <td>discoverla</td>\n",
       "      <td>Cis Female</td>\n",
       "      <td>Straight</td>\n",
       "      <td>0</td>\n",
       "      <td>10</td>\n",
       "    </tr>\n",
       "    <tr>\n",
       "      <th>38</th>\n",
       "      <td>mariobadescu</td>\n",
       "      <td>Cis Female</td>\n",
       "      <td>Straight</td>\n",
       "      <td>0</td>\n",
       "      <td>10</td>\n",
       "    </tr>\n",
       "    <tr>\n",
       "      <th>39</th>\n",
       "      <td>humantold</td>\n",
       "      <td>Cis Female</td>\n",
       "      <td>Straight</td>\n",
       "      <td>0</td>\n",
       "      <td>10</td>\n",
       "    </tr>\n",
       "    <tr>\n",
       "      <th>40</th>\n",
       "      <td>govballnyc</td>\n",
       "      <td>Cis Female</td>\n",
       "      <td>Straight</td>\n",
       "      <td>0</td>\n",
       "      <td>10</td>\n",
       "    </tr>\n",
       "  </tbody>\n",
       "</table>\n",
       "</div>"
      ],
      "text/plain": [
       "      advertiser      Gender Sexuality  Queer  User\n",
       "36    livenation  Cis Female  Straight      0    10\n",
       "37    discoverla  Cis Female  Straight      0    10\n",
       "38  mariobadescu  Cis Female  Straight      0    10\n",
       "39     humantold  Cis Female  Straight      0    10\n",
       "40    govballnyc  Cis Female  Straight      0    10"
      ]
     },
     "execution_count": 35,
     "metadata": {},
     "output_type": "execute_result"
    }
   ],
   "source": [
    "df_10 = pd.DataFrame({\"advertiser\": temp_list})\n",
    "gender_list = ['Cis Female' for x in df_10['advertiser']]\n",
    "sexu_list = ['Straight' for x in df_10['advertiser']]\n",
    "queer_list = [0 for x in df_10['advertiser']]\n",
    "user_list = [10 for x in df_10['advertiser']]\n",
    "df_10['Gender'] = gender_list\n",
    "df_10['Sexuality'] = sexu_list\n",
    "df_10['Queer'] = queer_list\n",
    "df_10['User'] = user_list\n",
    "df_10.tail()"
   ]
  },
  {
   "cell_type": "code",
   "execution_count": 36,
   "id": "beb60430-b1f0-40e4-8dd8-8581002349cc",
   "metadata": {},
   "outputs": [],
   "source": [
    "# \n",
    "# Here is where we would make any new dataframes\n",
    "#"
   ]
  },
  {
   "cell_type": "code",
   "execution_count": 37,
   "id": "0f0acaf3-35b1-4aac-bb42-8233f6eb0cf0",
   "metadata": {},
   "outputs": [],
   "source": [
    "# Make sure to add any extra dataframes into the following list\n",
    "\n",
    "ads_viewed = pd.concat([df_0, df_1, df_2, df_3, df_4, df_5, df_6, df_7, df_8, df_9, df_10], ignore_index=True, sort=False)\n",
    "ads_viewed = ads_viewed.drop_duplicates()"
   ]
  },
  {
   "cell_type": "code",
   "execution_count": 38,
   "id": "c30aeb23-cae5-4d30-be9f-264f7002bd3e",
   "metadata": {},
   "outputs": [
    {
     "data": {
      "text/plain": [
       "advertiser\n",
       "americanspikedco    2\n",
       "animatecolumbus     2\n",
       "appletv             3\n",
       "barkbox             2\n",
       "challengersmovie    2\n",
       "converse            2\n",
       "dunkin              2\n",
       "fableticsmen        2\n",
       "huntingtonbank      3\n",
       "killcrew            2\n",
       "kittenfy_co         2\n",
       "lego                2\n",
       "mazdausa            2\n",
       "thetonyawards       2\n",
       "treatmyocd          2\n",
       "turbotax            4\n",
       "visualyou           2\n",
       "wearkizik           2\n",
       "Name: User, dtype: int64"
      ]
     },
     "execution_count": 38,
     "metadata": {},
     "output_type": "execute_result"
    }
   ],
   "source": [
    "ads_test = ads_viewed.groupby('advertiser').User.nunique()\n",
    "mask = ads_test != 1\n",
    "ads_test = ads_test[mask]\n",
    "ads_test"
   ]
  },
  {
   "cell_type": "code",
   "execution_count": 39,
   "id": "42fe5f13-f017-4836-8994-76d9e448efd1",
   "metadata": {},
   "outputs": [
    {
     "data": {
      "text/html": [
       "<div>\n",
       "<style scoped>\n",
       "    .dataframe tbody tr th:only-of-type {\n",
       "        vertical-align: middle;\n",
       "    }\n",
       "\n",
       "    .dataframe tbody tr th {\n",
       "        vertical-align: top;\n",
       "    }\n",
       "\n",
       "    .dataframe thead th {\n",
       "        text-align: right;\n",
       "    }\n",
       "</style>\n",
       "<table border=\"1\" class=\"dataframe\">\n",
       "  <thead>\n",
       "    <tr style=\"text-align: right;\">\n",
       "      <th></th>\n",
       "      <th>advertiser</th>\n",
       "      <th>Gender</th>\n",
       "      <th>Sexuality</th>\n",
       "      <th>Queer</th>\n",
       "      <th>User</th>\n",
       "    </tr>\n",
       "  </thead>\n",
       "  <tbody>\n",
       "    <tr>\n",
       "      <th>0</th>\n",
       "      <td>dunkin</td>\n",
       "      <td>Cis Male</td>\n",
       "      <td>Gay</td>\n",
       "      <td>1</td>\n",
       "      <td>0</td>\n",
       "    </tr>\n",
       "    <tr>\n",
       "      <th>7</th>\n",
       "      <td>huntingtonbank</td>\n",
       "      <td>Cis Male</td>\n",
       "      <td>Gay</td>\n",
       "      <td>1</td>\n",
       "      <td>0</td>\n",
       "    </tr>\n",
       "    <tr>\n",
       "      <th>16</th>\n",
       "      <td>turbotax</td>\n",
       "      <td>Cis Male</td>\n",
       "      <td>Gay</td>\n",
       "      <td>1</td>\n",
       "      <td>0</td>\n",
       "    </tr>\n",
       "    <tr>\n",
       "      <th>17</th>\n",
       "      <td>lego</td>\n",
       "      <td>Cis Male</td>\n",
       "      <td>Gay</td>\n",
       "      <td>1</td>\n",
       "      <td>0</td>\n",
       "    </tr>\n",
       "    <tr>\n",
       "      <th>18</th>\n",
       "      <td>animatecolumbus</td>\n",
       "      <td>Cis Male</td>\n",
       "      <td>Gay</td>\n",
       "      <td>1</td>\n",
       "      <td>0</td>\n",
       "    </tr>\n",
       "  </tbody>\n",
       "</table>\n",
       "</div>"
      ],
      "text/plain": [
       "         advertiser    Gender Sexuality  Queer  User\n",
       "0            dunkin  Cis Male       Gay      1     0\n",
       "7    huntingtonbank  Cis Male       Gay      1     0\n",
       "16         turbotax  Cis Male       Gay      1     0\n",
       "17             lego  Cis Male       Gay      1     0\n",
       "18  animatecolumbus  Cis Male       Gay      1     0"
      ]
     },
     "execution_count": 39,
     "metadata": {},
     "output_type": "execute_result"
    }
   ],
   "source": [
    "mask2 = ads_viewed.isin(ads_test.index).any(axis=1)\n",
    "ads_viewed = ads_viewed[mask2]\n",
    "ads_viewed.head()"
   ]
  },
  {
   "cell_type": "code",
   "execution_count": 93,
   "id": "ca7c6af0-c890-4555-95c1-64c969bf0a0e",
   "metadata": {},
   "outputs": [
    {
     "data": {
      "application/vnd.plotly.v1+json": {
       "config": {
        "plotlyServerURL": "https://plot.ly"
       },
       "data": [
        {
         "dimensions": [
          {
           "label": "Gender",
           "values": [
            "Cis Male",
            "Cis Male",
            "Cis Male",
            "Cis Male",
            "Cis Male",
            "Cis Male",
            "Cis Male",
            "Cis Male",
            "Cis Male",
            "Cis Male",
            "Cis Male",
            "Cis Male",
            "Cis Male",
            "Cis Male",
            "Cis Male",
            "Cis Male",
            "Cis Male",
            "Cis Male",
            "Cis Male",
            "Cis Male",
            "Cis Male",
            "Cis Male",
            "Cis Male",
            "Cis Male",
            "Cis Female",
            "Cis Female",
            "Cis Female",
            "Cis Female",
            "Cis Female",
            "Cis Female",
            "Cis Female",
            "Cis Female",
            "Cis Female",
            "Cis Female",
            "Cis Female",
            "Cis Female",
            "Cis Female",
            "Cis Female",
            "Cis Female",
            "Cis Female"
           ]
          },
          {
           "label": "Sexuality",
           "values": [
            "Gay",
            "Gay",
            "Gay",
            "Gay",
            "Gay",
            "Gay",
            "Gay",
            "Gay",
            "Gay",
            "Gay",
            "Gay",
            "Bisexual",
            "Bisexual",
            "Bisexual",
            "Bisexual",
            "Bisexual",
            "Bisexual",
            "Bisexual",
            "Bisexual",
            "Gay",
            "Gay",
            "Straight",
            "Straight",
            "Straight",
            "Straight",
            "Straight",
            "Straight",
            "Straight",
            "Straight",
            "Straight",
            "Straight",
            "Straight",
            "Straight",
            "Straight",
            "Straight",
            "Straight",
            "Straight",
            "Pansexual",
            "Straight",
            "Straight"
           ]
          },
          {
           "label": "Advertiser",
           "values": [
            "dunkin",
            "huntingtonbank",
            "turbotax",
            "lego",
            "animatecolumbus",
            "appletv",
            "americanspikedco",
            "mazdausa",
            "wearkizik",
            "visualyou",
            "kittenfy_co",
            "turbotax",
            "fableticsmen",
            "converse",
            "kittenfy_co",
            "barkbox",
            "visualyou",
            "killcrew",
            "appletv",
            "animatecolumbus",
            "americanspikedco",
            "turbotax",
            "mazdausa",
            "fableticsmen",
            "converse",
            "treatmyocd",
            "lego",
            "huntingtonbank",
            "turbotax",
            "barkbox",
            "killcrew",
            "treatmyocd",
            "appletv",
            "wearkizik",
            "huntingtonbank",
            "challengersmovie",
            "dunkin",
            "thetonyawards",
            "challengersmovie",
            "thetonyawards"
           ]
          }
         ],
         "domain": {
          "x": [
           0,
           1
          ],
          "y": [
           0,
           1
          ]
         },
         "line": {
          "color": [
           1,
           1,
           1,
           1,
           1,
           1,
           1,
           1,
           1,
           1,
           1,
           1,
           1,
           1,
           1,
           1,
           1,
           1,
           1,
           1,
           1,
           0,
           0,
           0,
           0,
           0,
           0,
           0,
           0,
           0,
           0,
           0,
           0,
           0,
           0,
           0,
           0,
           1,
           0,
           0
          ],
          "coloraxis": "coloraxis"
         },
         "name": "",
         "type": "parcats"
        }
       ],
       "layout": {
        "autosize": true,
        "coloraxis": {
         "colorbar": {
          "title": {
           "text": "Queer"
          }
         },
         "colorscale": [
          [
           0,
           "rgb(243, 231, 155)"
          ],
          [
           0.16666666666666666,
           "rgb(250, 196, 132)"
          ],
          [
           0.3333333333333333,
           "rgb(248, 160, 126)"
          ],
          [
           0.5,
           "rgb(235, 127, 134)"
          ],
          [
           0.6666666666666666,
           "rgb(206, 102, 147)"
          ],
          [
           0.8333333333333334,
           "rgb(160, 89, 160)"
          ],
          [
           1,
           "rgb(92, 83, 165)"
          ]
         ]
        },
        "legend": {
         "tracegroupgap": 0
        },
        "template": {
         "data": {
          "bar": [
           {
            "error_x": {
             "color": "#2a3f5f"
            },
            "error_y": {
             "color": "#2a3f5f"
            },
            "marker": {
             "line": {
              "color": "#E5ECF6",
              "width": 0.5
             },
             "pattern": {
              "fillmode": "overlay",
              "size": 10,
              "solidity": 0.2
             }
            },
            "type": "bar"
           }
          ],
          "barpolar": [
           {
            "marker": {
             "line": {
              "color": "#E5ECF6",
              "width": 0.5
             },
             "pattern": {
              "fillmode": "overlay",
              "size": 10,
              "solidity": 0.2
             }
            },
            "type": "barpolar"
           }
          ],
          "carpet": [
           {
            "aaxis": {
             "endlinecolor": "#2a3f5f",
             "gridcolor": "white",
             "linecolor": "white",
             "minorgridcolor": "white",
             "startlinecolor": "#2a3f5f"
            },
            "baxis": {
             "endlinecolor": "#2a3f5f",
             "gridcolor": "white",
             "linecolor": "white",
             "minorgridcolor": "white",
             "startlinecolor": "#2a3f5f"
            },
            "type": "carpet"
           }
          ],
          "choropleth": [
           {
            "colorbar": {
             "outlinewidth": 0,
             "ticks": ""
            },
            "type": "choropleth"
           }
          ],
          "contour": [
           {
            "colorbar": {
             "outlinewidth": 0,
             "ticks": ""
            },
            "colorscale": [
             [
              0,
              "#0d0887"
             ],
             [
              0.1111111111111111,
              "#46039f"
             ],
             [
              0.2222222222222222,
              "#7201a8"
             ],
             [
              0.3333333333333333,
              "#9c179e"
             ],
             [
              0.4444444444444444,
              "#bd3786"
             ],
             [
              0.5555555555555556,
              "#d8576b"
             ],
             [
              0.6666666666666666,
              "#ed7953"
             ],
             [
              0.7777777777777778,
              "#fb9f3a"
             ],
             [
              0.8888888888888888,
              "#fdca26"
             ],
             [
              1,
              "#f0f921"
             ]
            ],
            "type": "contour"
           }
          ],
          "contourcarpet": [
           {
            "colorbar": {
             "outlinewidth": 0,
             "ticks": ""
            },
            "type": "contourcarpet"
           }
          ],
          "heatmap": [
           {
            "colorbar": {
             "outlinewidth": 0,
             "ticks": ""
            },
            "colorscale": [
             [
              0,
              "#0d0887"
             ],
             [
              0.1111111111111111,
              "#46039f"
             ],
             [
              0.2222222222222222,
              "#7201a8"
             ],
             [
              0.3333333333333333,
              "#9c179e"
             ],
             [
              0.4444444444444444,
              "#bd3786"
             ],
             [
              0.5555555555555556,
              "#d8576b"
             ],
             [
              0.6666666666666666,
              "#ed7953"
             ],
             [
              0.7777777777777778,
              "#fb9f3a"
             ],
             [
              0.8888888888888888,
              "#fdca26"
             ],
             [
              1,
              "#f0f921"
             ]
            ],
            "type": "heatmap"
           }
          ],
          "heatmapgl": [
           {
            "colorbar": {
             "outlinewidth": 0,
             "ticks": ""
            },
            "colorscale": [
             [
              0,
              "#0d0887"
             ],
             [
              0.1111111111111111,
              "#46039f"
             ],
             [
              0.2222222222222222,
              "#7201a8"
             ],
             [
              0.3333333333333333,
              "#9c179e"
             ],
             [
              0.4444444444444444,
              "#bd3786"
             ],
             [
              0.5555555555555556,
              "#d8576b"
             ],
             [
              0.6666666666666666,
              "#ed7953"
             ],
             [
              0.7777777777777778,
              "#fb9f3a"
             ],
             [
              0.8888888888888888,
              "#fdca26"
             ],
             [
              1,
              "#f0f921"
             ]
            ],
            "type": "heatmapgl"
           }
          ],
          "histogram": [
           {
            "marker": {
             "pattern": {
              "fillmode": "overlay",
              "size": 10,
              "solidity": 0.2
             }
            },
            "type": "histogram"
           }
          ],
          "histogram2d": [
           {
            "colorbar": {
             "outlinewidth": 0,
             "ticks": ""
            },
            "colorscale": [
             [
              0,
              "#0d0887"
             ],
             [
              0.1111111111111111,
              "#46039f"
             ],
             [
              0.2222222222222222,
              "#7201a8"
             ],
             [
              0.3333333333333333,
              "#9c179e"
             ],
             [
              0.4444444444444444,
              "#bd3786"
             ],
             [
              0.5555555555555556,
              "#d8576b"
             ],
             [
              0.6666666666666666,
              "#ed7953"
             ],
             [
              0.7777777777777778,
              "#fb9f3a"
             ],
             [
              0.8888888888888888,
              "#fdca26"
             ],
             [
              1,
              "#f0f921"
             ]
            ],
            "type": "histogram2d"
           }
          ],
          "histogram2dcontour": [
           {
            "colorbar": {
             "outlinewidth": 0,
             "ticks": ""
            },
            "colorscale": [
             [
              0,
              "#0d0887"
             ],
             [
              0.1111111111111111,
              "#46039f"
             ],
             [
              0.2222222222222222,
              "#7201a8"
             ],
             [
              0.3333333333333333,
              "#9c179e"
             ],
             [
              0.4444444444444444,
              "#bd3786"
             ],
             [
              0.5555555555555556,
              "#d8576b"
             ],
             [
              0.6666666666666666,
              "#ed7953"
             ],
             [
              0.7777777777777778,
              "#fb9f3a"
             ],
             [
              0.8888888888888888,
              "#fdca26"
             ],
             [
              1,
              "#f0f921"
             ]
            ],
            "type": "histogram2dcontour"
           }
          ],
          "mesh3d": [
           {
            "colorbar": {
             "outlinewidth": 0,
             "ticks": ""
            },
            "type": "mesh3d"
           }
          ],
          "parcoords": [
           {
            "line": {
             "colorbar": {
              "outlinewidth": 0,
              "ticks": ""
             }
            },
            "type": "parcoords"
           }
          ],
          "pie": [
           {
            "automargin": true,
            "type": "pie"
           }
          ],
          "scatter": [
           {
            "fillpattern": {
             "fillmode": "overlay",
             "size": 10,
             "solidity": 0.2
            },
            "type": "scatter"
           }
          ],
          "scatter3d": [
           {
            "line": {
             "colorbar": {
              "outlinewidth": 0,
              "ticks": ""
             }
            },
            "marker": {
             "colorbar": {
              "outlinewidth": 0,
              "ticks": ""
             }
            },
            "type": "scatter3d"
           }
          ],
          "scattercarpet": [
           {
            "marker": {
             "colorbar": {
              "outlinewidth": 0,
              "ticks": ""
             }
            },
            "type": "scattercarpet"
           }
          ],
          "scattergeo": [
           {
            "marker": {
             "colorbar": {
              "outlinewidth": 0,
              "ticks": ""
             }
            },
            "type": "scattergeo"
           }
          ],
          "scattergl": [
           {
            "marker": {
             "colorbar": {
              "outlinewidth": 0,
              "ticks": ""
             }
            },
            "type": "scattergl"
           }
          ],
          "scattermapbox": [
           {
            "marker": {
             "colorbar": {
              "outlinewidth": 0,
              "ticks": ""
             }
            },
            "type": "scattermapbox"
           }
          ],
          "scatterpolar": [
           {
            "marker": {
             "colorbar": {
              "outlinewidth": 0,
              "ticks": ""
             }
            },
            "type": "scatterpolar"
           }
          ],
          "scatterpolargl": [
           {
            "marker": {
             "colorbar": {
              "outlinewidth": 0,
              "ticks": ""
             }
            },
            "type": "scatterpolargl"
           }
          ],
          "scatterternary": [
           {
            "marker": {
             "colorbar": {
              "outlinewidth": 0,
              "ticks": ""
             }
            },
            "type": "scatterternary"
           }
          ],
          "surface": [
           {
            "colorbar": {
             "outlinewidth": 0,
             "ticks": ""
            },
            "colorscale": [
             [
              0,
              "#0d0887"
             ],
             [
              0.1111111111111111,
              "#46039f"
             ],
             [
              0.2222222222222222,
              "#7201a8"
             ],
             [
              0.3333333333333333,
              "#9c179e"
             ],
             [
              0.4444444444444444,
              "#bd3786"
             ],
             [
              0.5555555555555556,
              "#d8576b"
             ],
             [
              0.6666666666666666,
              "#ed7953"
             ],
             [
              0.7777777777777778,
              "#fb9f3a"
             ],
             [
              0.8888888888888888,
              "#fdca26"
             ],
             [
              1,
              "#f0f921"
             ]
            ],
            "type": "surface"
           }
          ],
          "table": [
           {
            "cells": {
             "fill": {
              "color": "#EBF0F8"
             },
             "line": {
              "color": "white"
             }
            },
            "header": {
             "fill": {
              "color": "#C8D4E3"
             },
             "line": {
              "color": "white"
             }
            },
            "type": "table"
           }
          ]
         },
         "layout": {
          "annotationdefaults": {
           "arrowcolor": "#2a3f5f",
           "arrowhead": 0,
           "arrowwidth": 1
          },
          "autotypenumbers": "strict",
          "coloraxis": {
           "colorbar": {
            "outlinewidth": 0,
            "ticks": ""
           }
          },
          "colorscale": {
           "diverging": [
            [
             0,
             "#8e0152"
            ],
            [
             0.1,
             "#c51b7d"
            ],
            [
             0.2,
             "#de77ae"
            ],
            [
             0.3,
             "#f1b6da"
            ],
            [
             0.4,
             "#fde0ef"
            ],
            [
             0.5,
             "#f7f7f7"
            ],
            [
             0.6,
             "#e6f5d0"
            ],
            [
             0.7,
             "#b8e186"
            ],
            [
             0.8,
             "#7fbc41"
            ],
            [
             0.9,
             "#4d9221"
            ],
            [
             1,
             "#276419"
            ]
           ],
           "sequential": [
            [
             0,
             "#0d0887"
            ],
            [
             0.1111111111111111,
             "#46039f"
            ],
            [
             0.2222222222222222,
             "#7201a8"
            ],
            [
             0.3333333333333333,
             "#9c179e"
            ],
            [
             0.4444444444444444,
             "#bd3786"
            ],
            [
             0.5555555555555556,
             "#d8576b"
            ],
            [
             0.6666666666666666,
             "#ed7953"
            ],
            [
             0.7777777777777778,
             "#fb9f3a"
            ],
            [
             0.8888888888888888,
             "#fdca26"
            ],
            [
             1,
             "#f0f921"
            ]
           ],
           "sequentialminus": [
            [
             0,
             "#0d0887"
            ],
            [
             0.1111111111111111,
             "#46039f"
            ],
            [
             0.2222222222222222,
             "#7201a8"
            ],
            [
             0.3333333333333333,
             "#9c179e"
            ],
            [
             0.4444444444444444,
             "#bd3786"
            ],
            [
             0.5555555555555556,
             "#d8576b"
            ],
            [
             0.6666666666666666,
             "#ed7953"
            ],
            [
             0.7777777777777778,
             "#fb9f3a"
            ],
            [
             0.8888888888888888,
             "#fdca26"
            ],
            [
             1,
             "#f0f921"
            ]
           ]
          },
          "colorway": [
           "#636efa",
           "#EF553B",
           "#00cc96",
           "#ab63fa",
           "#FFA15A",
           "#19d3f3",
           "#FF6692",
           "#B6E880",
           "#FF97FF",
           "#FECB52"
          ],
          "font": {
           "color": "#2a3f5f"
          },
          "geo": {
           "bgcolor": "white",
           "lakecolor": "white",
           "landcolor": "#E5ECF6",
           "showlakes": true,
           "showland": true,
           "subunitcolor": "white"
          },
          "hoverlabel": {
           "align": "left"
          },
          "hovermode": "closest",
          "mapbox": {
           "style": "light"
          },
          "paper_bgcolor": "white",
          "plot_bgcolor": "#E5ECF6",
          "polar": {
           "angularaxis": {
            "gridcolor": "white",
            "linecolor": "white",
            "ticks": ""
           },
           "bgcolor": "#E5ECF6",
           "radialaxis": {
            "gridcolor": "white",
            "linecolor": "white",
            "ticks": ""
           }
          },
          "scene": {
           "xaxis": {
            "backgroundcolor": "#E5ECF6",
            "gridcolor": "white",
            "gridwidth": 2,
            "linecolor": "white",
            "showbackground": true,
            "ticks": "",
            "zerolinecolor": "white"
           },
           "yaxis": {
            "backgroundcolor": "#E5ECF6",
            "gridcolor": "white",
            "gridwidth": 2,
            "linecolor": "white",
            "showbackground": true,
            "ticks": "",
            "zerolinecolor": "white"
           },
           "zaxis": {
            "backgroundcolor": "#E5ECF6",
            "gridcolor": "white",
            "gridwidth": 2,
            "linecolor": "white",
            "showbackground": true,
            "ticks": "",
            "zerolinecolor": "white"
           }
          },
          "shapedefaults": {
           "line": {
            "color": "#2a3f5f"
           }
          },
          "ternary": {
           "aaxis": {
            "gridcolor": "white",
            "linecolor": "white",
            "ticks": ""
           },
           "baxis": {
            "gridcolor": "white",
            "linecolor": "white",
            "ticks": ""
           },
           "bgcolor": "#E5ECF6",
           "caxis": {
            "gridcolor": "white",
            "linecolor": "white",
            "ticks": ""
           }
          },
          "title": {
           "x": 0.05
          },
          "xaxis": {
           "automargin": true,
           "gridcolor": "white",
           "linecolor": "white",
           "ticks": "",
           "title": {
            "standoff": 15
           },
           "zerolinecolor": "white",
           "zerolinewidth": 2
          },
          "yaxis": {
           "automargin": true,
           "gridcolor": "white",
           "linecolor": "white",
           "ticks": "",
           "title": {
            "standoff": 15
           },
           "zerolinecolor": "white",
           "zerolinewidth": 2
          }
         }
        },
        "title": {
         "text": "What Ads Are Targeted Towards Queer Young Adults"
        }
       }
      },
      "image/png": "[encoded data removed]",
      "text/html": [
       "<div>                            <div id=\"22f3357c-a76a-4b2f-81e1-a08eb5980c8a\" class=\"plotly-graph-div\" style=\"height:525px; width:100%;\"></div>            <script type=\"text/javascript\">                require([\"plotly\"], function(Plotly) {                    window.PLOTLYENV=window.PLOTLYENV || {};                                    if (document.getElementById(\"22f3357c-a76a-4b2f-81e1-a08eb5980c8a\")) {                    Plotly.newPlot(                        \"22f3357c-a76a-4b2f-81e1-a08eb5980c8a\",                        [{\"dimensions\":[{\"label\":\"Gender\",\"values\":[\"Cis Male\",\"Cis Male\",\"Cis Male\",\"Cis Male\",\"Cis Male\",\"Cis Male\",\"Cis Male\",\"Cis Male\",\"Cis Male\",\"Cis Male\",\"Cis Male\",\"Cis Male\",\"Cis Male\",\"Cis Male\",\"Cis Male\",\"Cis Male\",\"Cis Male\",\"Cis Male\",\"Cis Male\",\"Cis Male\",\"Cis Male\",\"Cis Male\",\"Cis Male\",\"Cis Male\",\"Cis Female\",\"Cis Female\",\"Cis Female\",\"Cis Female\",\"Cis Female\",\"Cis Female\",\"Cis Female\",\"Cis Female\",\"Cis Female\",\"Cis Female\",\"Cis Female\",\"Cis Female\",\"Cis Female\",\"Cis Female\",\"Cis Female\",\"Cis Female\"]},{\"label\":\"Sexuality\",\"values\":[\"Gay\",\"Gay\",\"Gay\",\"Gay\",\"Gay\",\"Gay\",\"Gay\",\"Gay\",\"Gay\",\"Gay\",\"Gay\",\"Bisexual\",\"Bisexual\",\"Bisexual\",\"Bisexual\",\"Bisexual\",\"Bisexual\",\"Bisexual\",\"Bisexual\",\"Gay\",\"Gay\",\"Straight\",\"Straight\",\"Straight\",\"Straight\",\"Straight\",\"Straight\",\"Straight\",\"Straight\",\"Straight\",\"Straight\",\"Straight\",\"Straight\",\"Straight\",\"Straight\",\"Straight\",\"Straight\",\"Pansexual\",\"Straight\",\"Straight\"]},{\"label\":\"Advertiser\",\"values\":[\"dunkin\",\"huntingtonbank\",\"turbotax\",\"lego\",\"animatecolumbus\",\"appletv\",\"americanspikedco\",\"mazdausa\",\"wearkizik\",\"visualyou\",\"kittenfy_co\",\"turbotax\",\"fableticsmen\",\"converse\",\"kittenfy_co\",\"barkbox\",\"visualyou\",\"killcrew\",\"appletv\",\"animatecolumbus\",\"americanspikedco\",\"turbotax\",\"mazdausa\",\"fableticsmen\",\"converse\",\"treatmyocd\",\"lego\",\"huntingtonbank\",\"turbotax\",\"barkbox\",\"killcrew\",\"treatmyocd\",\"appletv\",\"wearkizik\",\"huntingtonbank\",\"challengersmovie\",\"dunkin\",\"thetonyawards\",\"challengersmovie\",\"thetonyawards\"]}],\"domain\":{\"x\":[0.0,1.0],\"y\":[0.0,1.0]},\"line\":{\"color\":[1,1,1,1,1,1,1,1,1,1,1,1,1,1,1,1,1,1,1,1,1,0,0,0,0,0,0,0,0,0,0,0,0,0,0,0,0,1,0,0],\"coloraxis\":\"coloraxis\"},\"name\":\"\",\"type\":\"parcats\"}],                        {\"template\":{\"data\":{\"histogram2dcontour\":[{\"type\":\"histogram2dcontour\",\"colorbar\":{\"outlinewidth\":0,\"ticks\":\"\"},\"colorscale\":[[0.0,\"#0d0887\"],[0.1111111111111111,\"#46039f\"],[0.2222222222222222,\"#7201a8\"],[0.3333333333333333,\"#9c179e\"],[0.4444444444444444,\"#bd3786\"],[0.5555555555555556,\"#d8576b\"],[0.6666666666666666,\"#ed7953\"],[0.7777777777777778,\"#fb9f3a\"],[0.8888888888888888,\"#fdca26\"],[1.0,\"#f0f921\"]]}],\"choropleth\":[{\"type\":\"choropleth\",\"colorbar\":{\"outlinewidth\":0,\"ticks\":\"\"}}],\"histogram2d\":[{\"type\":\"histogram2d\",\"colorbar\":{\"outlinewidth\":0,\"ticks\":\"\"},\"colorscale\":[[0.0,\"#0d0887\"],[0.1111111111111111,\"#46039f\"],[0.2222222222222222,\"#7201a8\"],[0.3333333333333333,\"#9c179e\"],[0.4444444444444444,\"#bd3786\"],[0.5555555555555556,\"#d8576b\"],[0.6666666666666666,\"#ed7953\"],[0.7777777777777778,\"#fb9f3a\"],[0.8888888888888888,\"#fdca26\"],[1.0,\"#f0f921\"]]}],\"heatmap\":[{\"type\":\"heatmap\",\"colorbar\":{\"outlinewidth\":0,\"ticks\":\"\"},\"colorscale\":[[0.0,\"#0d0887\"],[0.1111111111111111,\"#46039f\"],[0.2222222222222222,\"#7201a8\"],[0.3333333333333333,\"#9c179e\"],[0.4444444444444444,\"#bd3786\"],[0.5555555555555556,\"#d8576b\"],[0.6666666666666666,\"#ed7953\"],[0.7777777777777778,\"#fb9f3a\"],[0.8888888888888888,\"#fdca26\"],[1.0,\"#f0f921\"]]}],\"heatmapgl\":[{\"type\":\"heatmapgl\",\"colorbar\":{\"outlinewidth\":0,\"ticks\":\"\"},\"colorscale\":[[0.0,\"#0d0887\"],[0.1111111111111111,\"#46039f\"],[0.2222222222222222,\"#7201a8\"],[0.3333333333333333,\"#9c179e\"],[0.4444444444444444,\"#bd3786\"],[0.5555555555555556,\"#d8576b\"],[0.6666666666666666,\"#ed7953\"],[0.7777777777777778,\"#fb9f3a\"],[0.8888888888888888,\"#fdca26\"],[1.0,\"#f0f921\"]]}],\"contourcarpet\":[{\"type\":\"contourcarpet\",\"colorbar\":{\"outlinewidth\":0,\"ticks\":\"\"}}],\"contour\":[{\"type\":\"contour\",\"colorbar\":{\"outlinewidth\":0,\"ticks\":\"\"},\"colorscale\":[[0.0,\"#0d0887\"],[0.1111111111111111,\"#46039f\"],[0.2222222222222222,\"#7201a8\"],[0.3333333333333333,\"#9c179e\"],[0.4444444444444444,\"#bd3786\"],[0.5555555555555556,\"#d8576b\"],[0.6666666666666666,\"#ed7953\"],[0.7777777777777778,\"#fb9f3a\"],[0.8888888888888888,\"#fdca26\"],[1.0,\"#f0f921\"]]}],\"surface\":[{\"type\":\"surface\",\"colorbar\":{\"outlinewidth\":0,\"ticks\":\"\"},\"colorscale\":[[0.0,\"#0d0887\"],[0.1111111111111111,\"#46039f\"],[0.2222222222222222,\"#7201a8\"],[0.3333333333333333,\"#9c179e\"],[0.4444444444444444,\"#bd3786\"],[0.5555555555555556,\"#d8576b\"],[0.6666666666666666,\"#ed7953\"],[0.7777777777777778,\"#fb9f3a\"],[0.8888888888888888,\"#fdca26\"],[1.0,\"#f0f921\"]]}],\"mesh3d\":[{\"type\":\"mesh3d\",\"colorbar\":{\"outlinewidth\":0,\"ticks\":\"\"}}],\"scatter\":[{\"fillpattern\":{\"fillmode\":\"overlay\",\"size\":10,\"solidity\":0.2},\"type\":\"scatter\"}],\"parcoords\":[{\"type\":\"parcoords\",\"line\":{\"colorbar\":{\"outlinewidth\":0,\"ticks\":\"\"}}}],\"scatterpolargl\":[{\"type\":\"scatterpolargl\",\"marker\":{\"colorbar\":{\"outlinewidth\":0,\"ticks\":\"\"}}}],\"bar\":[{\"error_x\":{\"color\":\"#2a3f5f\"},\"error_y\":{\"color\":\"#2a3f5f\"},\"marker\":{\"line\":{\"color\":\"#E5ECF6\",\"width\":0.5},\"pattern\":{\"fillmode\":\"overlay\",\"size\":10,\"solidity\":0.2}},\"type\":\"bar\"}],\"scattergeo\":[{\"type\":\"scattergeo\",\"marker\":{\"colorbar\":{\"outlinewidth\":0,\"ticks\":\"\"}}}],\"scatterpolar\":[{\"type\":\"scatterpolar\",\"marker\":{\"colorbar\":{\"outlinewidth\":0,\"ticks\":\"\"}}}],\"histogram\":[{\"marker\":{\"pattern\":{\"fillmode\":\"overlay\",\"size\":10,\"solidity\":0.2}},\"type\":\"histogram\"}],\"scattergl\":[{\"type\":\"scattergl\",\"marker\":{\"colorbar\":{\"outlinewidth\":0,\"ticks\":\"\"}}}],\"scatter3d\":[{\"type\":\"scatter3d\",\"line\":{\"colorbar\":{\"outlinewidth\":0,\"ticks\":\"\"}},\"marker\":{\"colorbar\":{\"outlinewidth\":0,\"ticks\":\"\"}}}],\"scattermapbox\":[{\"type\":\"scattermapbox\",\"marker\":{\"colorbar\":{\"outlinewidth\":0,\"ticks\":\"\"}}}],\"scatterternary\":[{\"type\":\"scatterternary\",\"marker\":{\"colorbar\":{\"outlinewidth\":0,\"ticks\":\"\"}}}],\"scattercarpet\":[{\"type\":\"scattercarpet\",\"marker\":{\"colorbar\":{\"outlinewidth\":0,\"ticks\":\"\"}}}],\"carpet\":[{\"aaxis\":{\"endlinecolor\":\"#2a3f5f\",\"gridcolor\":\"white\",\"linecolor\":\"white\",\"minorgridcolor\":\"white\",\"startlinecolor\":\"#2a3f5f\"},\"baxis\":{\"endlinecolor\":\"#2a3f5f\",\"gridcolor\":\"white\",\"linecolor\":\"white\",\"minorgridcolor\":\"white\",\"startlinecolor\":\"#2a3f5f\"},\"type\":\"carpet\"}],\"table\":[{\"cells\":{\"fill\":{\"color\":\"#EBF0F8\"},\"line\":{\"color\":\"white\"}},\"header\":{\"fill\":{\"color\":\"#C8D4E3\"},\"line\":{\"color\":\"white\"}},\"type\":\"table\"}],\"barpolar\":[{\"marker\":{\"line\":{\"color\":\"#E5ECF6\",\"width\":0.5},\"pattern\":{\"fillmode\":\"overlay\",\"size\":10,\"solidity\":0.2}},\"type\":\"barpolar\"}],\"pie\":[{\"automargin\":true,\"type\":\"pie\"}]},\"layout\":{\"autotypenumbers\":\"strict\",\"colorway\":[\"#636efa\",\"#EF553B\",\"#00cc96\",\"#ab63fa\",\"#FFA15A\",\"#19d3f3\",\"#FF6692\",\"#B6E880\",\"#FF97FF\",\"#FECB52\"],\"font\":{\"color\":\"#2a3f5f\"},\"hovermode\":\"closest\",\"hoverlabel\":{\"align\":\"left\"},\"paper_bgcolor\":\"white\",\"plot_bgcolor\":\"#E5ECF6\",\"polar\":{\"bgcolor\":\"#E5ECF6\",\"angularaxis\":{\"gridcolor\":\"white\",\"linecolor\":\"white\",\"ticks\":\"\"},\"radialaxis\":{\"gridcolor\":\"white\",\"linecolor\":\"white\",\"ticks\":\"\"}},\"ternary\":{\"bgcolor\":\"#E5ECF6\",\"aaxis\":{\"gridcolor\":\"white\",\"linecolor\":\"white\",\"ticks\":\"\"},\"baxis\":{\"gridcolor\":\"white\",\"linecolor\":\"white\",\"ticks\":\"\"},\"caxis\":{\"gridcolor\":\"white\",\"linecolor\":\"white\",\"ticks\":\"\"}},\"coloraxis\":{\"colorbar\":{\"outlinewidth\":0,\"ticks\":\"\"}},\"colorscale\":{\"sequential\":[[0.0,\"#0d0887\"],[0.1111111111111111,\"#46039f\"],[0.2222222222222222,\"#7201a8\"],[0.3333333333333333,\"#9c179e\"],[0.4444444444444444,\"#bd3786\"],[0.5555555555555556,\"#d8576b\"],[0.6666666666666666,\"#ed7953\"],[0.7777777777777778,\"#fb9f3a\"],[0.8888888888888888,\"#fdca26\"],[1.0,\"#f0f921\"]],\"sequentialminus\":[[0.0,\"#0d0887\"],[0.1111111111111111,\"#46039f\"],[0.2222222222222222,\"#7201a8\"],[0.3333333333333333,\"#9c179e\"],[0.4444444444444444,\"#bd3786\"],[0.5555555555555556,\"#d8576b\"],[0.6666666666666666,\"#ed7953\"],[0.7777777777777778,\"#fb9f3a\"],[0.8888888888888888,\"#fdca26\"],[1.0,\"#f0f921\"]],\"diverging\":[[0,\"#8e0152\"],[0.1,\"#c51b7d\"],[0.2,\"#de77ae\"],[0.3,\"#f1b6da\"],[0.4,\"#fde0ef\"],[0.5,\"#f7f7f7\"],[0.6,\"#e6f5d0\"],[0.7,\"#b8e186\"],[0.8,\"#7fbc41\"],[0.9,\"#4d9221\"],[1,\"#276419\"]]},\"xaxis\":{\"gridcolor\":\"white\",\"linecolor\":\"white\",\"ticks\":\"\",\"title\":{\"standoff\":15},\"zerolinecolor\":\"white\",\"automargin\":true,\"zerolinewidth\":2},\"yaxis\":{\"gridcolor\":\"white\",\"linecolor\":\"white\",\"ticks\":\"\",\"title\":{\"standoff\":15},\"zerolinecolor\":\"white\",\"automargin\":true,\"zerolinewidth\":2},\"scene\":{\"xaxis\":{\"backgroundcolor\":\"#E5ECF6\",\"gridcolor\":\"white\",\"linecolor\":\"white\",\"showbackground\":true,\"ticks\":\"\",\"zerolinecolor\":\"white\",\"gridwidth\":2},\"yaxis\":{\"backgroundcolor\":\"#E5ECF6\",\"gridcolor\":\"white\",\"linecolor\":\"white\",\"showbackground\":true,\"ticks\":\"\",\"zerolinecolor\":\"white\",\"gridwidth\":2},\"zaxis\":{\"backgroundcolor\":\"#E5ECF6\",\"gridcolor\":\"white\",\"linecolor\":\"white\",\"showbackground\":true,\"ticks\":\"\",\"zerolinecolor\":\"white\",\"gridwidth\":2}},\"shapedefaults\":{\"line\":{\"color\":\"#2a3f5f\"}},\"annotationdefaults\":{\"arrowcolor\":\"#2a3f5f\",\"arrowhead\":0,\"arrowwidth\":1},\"geo\":{\"bgcolor\":\"white\",\"landcolor\":\"#E5ECF6\",\"subunitcolor\":\"white\",\"showland\":true,\"showlakes\":true,\"lakecolor\":\"white\"},\"title\":{\"x\":0.05},\"mapbox\":{\"style\":\"light\"}}},\"coloraxis\":{\"colorbar\":{\"title\":{\"text\":\"Queer\"}},\"colorscale\":[[0.0,\"rgb(243, 231, 155)\"],[0.16666666666666666,\"rgb(250, 196, 132)\"],[0.3333333333333333,\"rgb(248, 160, 126)\"],[0.5,\"rgb(235, 127, 134)\"],[0.6666666666666666,\"rgb(206, 102, 147)\"],[0.8333333333333334,\"rgb(160, 89, 160)\"],[1.0,\"rgb(92, 83, 165)\"]]},\"legend\":{\"tracegroupgap\":0},\"title\":{\"text\":\"What Ads Are Targeted Towards Queer Young Adults\"}},                        {\"responsive\": true}                    ).then(function(){\n",
       "                            \n",
       "var gd = document.getElementById('22f3357c-a76a-4b2f-81e1-a08eb5980c8a');\n",
       "var x = new MutationObserver(function (mutations, observer) {{\n",
       "        var display = window.getComputedStyle(gd).display;\n",
       "        if (!display || display === 'none') {{\n",
       "            console.log([gd, 'removed!']);\n",
       "            Plotly.purge(gd);\n",
       "            observer.disconnect();\n",
       "        }}\n",
       "}});\n",
       "\n",
       "// Listen for the removal of the full notebook cells\n",
       "var notebookContainer = gd.closest('#notebook-container');\n",
       "if (notebookContainer) {{\n",
       "    x.observe(notebookContainer, {childList: true});\n",
       "}}\n",
       "\n",
       "// Listen for the clearing of the current output cell\n",
       "var outputEl = gd.closest('.output');\n",
       "if (outputEl) {{\n",
       "    x.observe(outputEl, {childList: true});\n",
       "}}\n",
       "\n",
       "                        })                };                });            </script>        </div>"
      ]
     },
     "metadata": {},
     "output_type": "display_data"
    }
   ],
   "source": [
    "fig = px.parallel_categories(ads_viewed, dimensions=['Gender', 'Sexuality', 'advertiser'],\n",
    "                color=\"Queer\", title = 'What Ads Are Targeted Towards Queer Young Adults', color_continuous_scale = 'sunset',\n",
    "                labels={'Gender':'Gender', 'Sexuality':'Sexuality', 'advertiser':'Advertiser'})\n",
    "fig.write_html(\"final.html\")\n",
    "fig.show()"
   ]
  },
  {
   "cell_type": "code",
   "execution_count": 94,
   "id": "b8bd9bde-b28f-421f-b2d2-3edd0f31e697",
   "metadata": {},
   "outputs": [],
   "source": [
    "ads_viewed.to_csv(\"FinalDataframe.csv\")"
   ]
  },
  {
   "cell_type": "code",
   "execution_count": null,
   "id": "4fcca531-4e55-47ce-9b12-d6e0d3b85046",
   "metadata": {},
   "outputs": [],
   "source": []
  }
 ],
 "metadata": {
  "kernelspec": {
   "display_name": "Python 3 (ipykernel)",
   "language": "python",
   "name": "python3"
  },
  "language_info": {
   "codemirror_mode": {
    "name": "ipython",
    "version": 3
   },
   "file_extension": ".py",
   "mimetype": "text/x-python",
   "name": "python",
   "nbconvert_exporter": "python",
   "pygments_lexer": "ipython3",
   "version": "3.12.1"
  }
 },
 "nbformat": 4,
 "nbformat_minor": 5
}
